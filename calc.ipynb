{
 "cells": [
  {
   "cell_type": "code",
   "execution_count": 24,
   "id": "bc2a3688",
   "metadata": {},
   "outputs": [
    {
     "name": "stdout",
     "output_type": "stream",
     "text": [
      "введите математическое выражение одной строкой в правильном формате1 - 1\n",
      "0\n"
     ]
    }
   ],
   "source": [
    "while True:\n",
    "\n",
    "    try:\n",
    "        nums = input(\"введите математическое выражение одной строкой в правильном формате\").split(' ')\n",
    "        #print(nums) \n",
    "        total = 0 \n",
    "\n",
    "        if nums[1] == \"+\": \n",
    "            total =  int(nums[0]) + int(nums[2]) \n",
    "        elif nums[1] == \"-\": \n",
    "            total =  int(nums[0]) - int(nums[2]) \n",
    "        elif nums[1] == \"*\": \n",
    "            total =  int(nums[0]) * int(nums[2]) \n",
    "        elif nums[1] == \"/\": \n",
    "            total =  int(nums[0]) / int(nums[2])\n",
    "        print(total)\n",
    "        break\n",
    "\n",
    "    except Exception:\n",
    "        print(\"ошибка ввода\")"
   ]
  },
  {
   "cell_type": "code",
   "execution_count": null,
   "id": "5f837b66",
   "metadata": {},
   "outputs": [],
   "source": []
  },
  {
   "cell_type": "code",
   "execution_count": null,
   "id": "e07a900b",
   "metadata": {},
   "outputs": [],
   "source": []
  }
 ],
 "metadata": {
  "kernelspec": {
   "display_name": "Python 3 (ipykernel)",
   "language": "python",
   "name": "python3"
  },
  "language_info": {
   "codemirror_mode": {
    "name": "ipython",
    "version": 3
   },
   "file_extension": ".py",
   "mimetype": "text/x-python",
   "name": "python",
   "nbconvert_exporter": "python",
   "pygments_lexer": "ipython3",
   "version": "3.11.5"
  }
 },
 "nbformat": 4,
 "nbformat_minor": 5
}
